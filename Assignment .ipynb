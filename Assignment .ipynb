{
  "nbformat": 4,
  "nbformat_minor": 0,
  "metadata": {
    "colab": {
      "provenance": []
    },
    "kernelspec": {
      "name": "python3",
      "display_name": "Python 3"
    },
    "language_info": {
      "name": "python"
    }
  },
  "cells": [
    {
      "cell_type": "code",
      "execution_count": null,
      "metadata": {
        "id": "sZUwyiragenK"
      },
      "outputs": [],
      "source": []
    },
    {
      "cell_type": "markdown",
      "source": [
        "## Name: Shivanshu Singh Parihar\n",
        "# Batch : September 2024\n",
        "# Assignment Date: 03 Oct 2024\n",
        "# Assignment : Python Basics Assignment\n",
        "\n",
        "###                                 Assignment -1\n",
        "\n",
        "\n",
        "**1. Explain the key features of Python that make it a popular choice for programming.**\n",
        "\n",
        "Ans: Python is a very popular and open source programming language, it also known for its simplicity and readability. python is popular for several reasons:\n",
        "\n",
        "**Easy to learn and use:** It is very easy to understand, also we can say it is a beginners friendly.\n",
        "\n",
        "**Simplicity and Readability:** It has a clear and simple syntax, making it easy for beginners to learn and for experienced programmers to read and write code efficiently.\n",
        "\n",
        "**Versatile**: Python can be used for various applications developments, also includes web development, data analysis, artificial intelligence, and many more fields.\n",
        "\n",
        "**Large Community and Libraries:** Python has a very vast community compared to other programming language, which means a lot's of libraries and frameworks are available in this language. which makes it easier to find support and resources.\n",
        "\n",
        "**Dynamic Typing:** In the Python, we don't have to declare the type of a variable it is when we create or perform any task, which makes coding quicker and very easier for coders.\n",
        "\n",
        "\n",
        "**2.Describe the role of predefined keywords in Python and provide examples of how they are used in a program.**\n",
        "\n",
        "Ans: Predefined keywords in Python are also known as reserved words that have specific meanings and functions in the language. These keywords form the syntax which dictating how the code is structured and executed. Also we can say that predefined keywords has already assigned instruction for the various task or duirng coding a project.\n",
        "Some Predefined Keywords are if, elif, else, for, while etc. just we take example of if and for, that we used in Loop :\n",
        "\n",
        "if: It is Used to make conditional statements.\n",
        "for: It is Used for looping through sequences."
      ],
      "metadata": {
        "id": "72MZxSIDi5ng"
      }
    },
    {
      "cell_type": "markdown",
      "source": [],
      "metadata": {
        "id": "8V8vDSdJqdUW"
      }
    },
    {
      "cell_type": "code",
      "source": [
        "num = 10\n",
        "\n",
        "if num > 5:\n",
        "    print(\"num is greater than 5\")\n",
        "\n",
        "for i in range(5):\n",
        "    print(i)"
      ],
      "metadata": {
        "colab": {
          "base_uri": "https://localhost:8080/"
        },
        "id": "Ihej9u-ao1jj",
        "outputId": "c6fd5414-0949-446c-e222-1a4832909212"
      },
      "execution_count": null,
      "outputs": [
        {
          "output_type": "stream",
          "name": "stdout",
          "text": [
            "num is greater than 5\n",
            "0\n",
            "1\n",
            "2\n",
            "3\n",
            "4\n"
          ]
        }
      ]
    },
    {
      "cell_type": "code",
      "source": [],
      "metadata": {
        "id": "XtgbPFd2pJWy"
      },
      "execution_count": null,
      "outputs": []
    },
    {
      "cell_type": "markdown",
      "source": [
        "3.Compare and contrast mutable and immutable objects in Python with examples.\n",
        "\n",
        "Ans :\n",
        "**Mutable Objects:** These are objects that can be changed after they are created or made. It means we can modify their content without creating a new object or removing it.\n",
        "\n",
        "*   It Can be changed after creation.\n",
        "*   Modifications do not create a new object.\n",
        "*   Examples include Lists, Dictionaries, and Sets.\n",
        "*   Modifications happen in place, updating the same object in memory.\n",
        "*   Generally faster for changes since no new object creation is involved.\n",
        "*   Useful for collections that require frequent modifications.\n",
        "*   Not hashable means it cannot be used as keys in dictionaries or elements in sets.\n",
        "\n",
        "**Immutable Objects:** These are objects that cannot be changed after they are created or made. Any modification in objects that results in the creation of a new object.\n",
        "\n",
        "*   Cannot be changed after creation; any modification creates a new object.\n",
        "*   Examples include Strings, Tuples, and Frozensets.\n",
        "*   Any change results in the creation of a new object in memory.\n",
        "*   Slower for modifications due to the need for new object creation.\n",
        "*   Often used for fixed collections or data that should not change.\n",
        "*   Hashable, it means can be used as keys in dictionaries or elements in sets.\n"
      ],
      "metadata": {
        "id": "wpVnXav6qhAs"
      }
    },
    {
      "cell_type": "code",
      "source": [
        "my_Hobbies = [\"Learning\", \"playing\", \"writing\"]\n",
        "my_Hobbies.append(\"traveling\") #Now my_list is [\"Learning\", \"playing\", \"writing\" ,\"traveling\"] #This will change because list is Mutable."
      ],
      "metadata": {
        "id": "BmGQ2BT1uxFp"
      },
      "execution_count": null,
      "outputs": []
    },
    {
      "cell_type": "code",
      "source": [
        "my_Hobbies = (\"Learning\", \"playing\", \"writing\")\n",
        "print(my_Hobbies)\n",
        "\n",
        "\n",
        "my_Hobbies[3] = \"traveling\"  #This would raise an error and it cannot  make any changes because Tuple is Immutable. This example of Immutable Objects.\n",
        "print(my_Hobbies)\n"
      ],
      "metadata": {
        "id": "7OmRxseAqg1V",
        "colab": {
          "base_uri": "https://localhost:8080/",
          "height": 211
        },
        "outputId": "1fcda57c-2e36-457d-82f5-163159843f1f"
      },
      "execution_count": null,
      "outputs": [
        {
          "output_type": "stream",
          "name": "stdout",
          "text": [
            "('Learning', 'playing', 'writing')\n"
          ]
        },
        {
          "output_type": "error",
          "ename": "TypeError",
          "evalue": "'tuple' object does not support item assignment",
          "traceback": [
            "\u001b[0;31m---------------------------------------------------------------------------\u001b[0m",
            "\u001b[0;31mTypeError\u001b[0m                                 Traceback (most recent call last)",
            "\u001b[0;32m<ipython-input-59-a4b091d155b6>\u001b[0m in \u001b[0;36m<cell line: 5>\u001b[0;34m()\u001b[0m\n\u001b[1;32m      3\u001b[0m \u001b[0;34m\u001b[0m\u001b[0m\n\u001b[1;32m      4\u001b[0m \u001b[0;34m\u001b[0m\u001b[0m\n\u001b[0;32m----> 5\u001b[0;31m \u001b[0mmy_Hobbies\u001b[0m\u001b[0;34m[\u001b[0m\u001b[0;36m3\u001b[0m\u001b[0;34m]\u001b[0m \u001b[0;34m=\u001b[0m \u001b[0;34m\"traveling\"\u001b[0m  \u001b[0;31m#This would raise an error and it cannot  make any changes because Tuple is Immutable. This example of Immutable Objects.\u001b[0m\u001b[0;34m\u001b[0m\u001b[0;34m\u001b[0m\u001b[0m\n\u001b[0m\u001b[1;32m      6\u001b[0m \u001b[0mprint\u001b[0m\u001b[0;34m(\u001b[0m\u001b[0mmy_Hobbies\u001b[0m\u001b[0;34m)\u001b[0m\u001b[0;34m\u001b[0m\u001b[0;34m\u001b[0m\u001b[0m\n",
            "\u001b[0;31mTypeError\u001b[0m: 'tuple' object does not support item assignment"
          ]
        }
      ]
    },
    {
      "cell_type": "markdown",
      "source": [
        "**4.Discuss the different types of operators in Python and provide examples of how they are  used.**\n",
        "\n",
        "Ans: In Python, operators are special symbols that perform operations on variables and values. The different types of operators in Python are:\n",
        "\n",
        "(i). Arithmetic Operators: These operators perform basic mathematical operations.\n",
        "\n",
        "+ : Addition\n",
        "- : Subtraction\n",
        "* : Multiplication\n",
        "/ : Division etc.\n",
        "\n",
        "\n"
      ],
      "metadata": {
        "id": "DTAYrwOUZe2I"
      }
    },
    {
      "cell_type": "code",
      "source": [
        "a = 10\n",
        "b = 15\n",
        "result = a + b\n",
        "print(result)\n",
        "\n",
        "result = a - b\n",
        "print(result)\n",
        "\n",
        "result = a * b\n",
        "print(result)\n",
        "\n",
        "result = a / b\n",
        "print(result)"
      ],
      "metadata": {
        "colab": {
          "base_uri": "https://localhost:8080/"
        },
        "id": "D1NGlwTa9o3S",
        "outputId": "816ad8a7-0aac-45b6-8430-9a47c08c7623"
      },
      "execution_count": null,
      "outputs": [
        {
          "output_type": "stream",
          "name": "stdout",
          "text": [
            "25\n",
            "-5\n",
            "150\n",
            "0.6666666666666666\n"
          ]
        }
      ]
    },
    {
      "cell_type": "markdown",
      "source": [
        "(ii). Comparison Operators: These operators compare two values and its return a Boolean result.\n",
        "*   == : Equal to\n",
        "*   != : Not equal to\n",
        "*   >  : Greater than\n",
        "*   <  : Less than\n",
        "*   >= : Greater than or equal to\n",
        "*   <= : Less than or equal to\n",
        "\n",
        "\n"
      ],
      "metadata": {
        "id": "lADxsFGZ-bCq"
      }
    },
    {
      "cell_type": "code",
      "source": [
        "a = 10\n",
        "b = 15\n",
        "result = (a == b)\n",
        "print(result)\n",
        "result = (a != b)\n",
        "print(result)\n",
        "result = (a > b)\n",
        "print(result)\n",
        "result = (a < b)\n",
        "print(result)\n",
        "result = (a >= b)\n",
        "print(result)\n",
        "result = (a <= b)\n",
        "print(result)"
      ],
      "metadata": {
        "colab": {
          "base_uri": "https://localhost:8080/"
        },
        "id": "yWtxdidY_ieE",
        "outputId": "a44167f7-ce2b-4945-974c-8d9c74bfff31"
      },
      "execution_count": null,
      "outputs": [
        {
          "output_type": "stream",
          "name": "stdout",
          "text": [
            "False\n",
            "True\n",
            "False\n",
            "True\n",
            "False\n",
            "True\n"
          ]
        }
      ]
    },
    {
      "cell_type": "markdown",
      "source": [
        "(iii). Logical Operators: These operators are used to combine conditional statements.\n",
        "*   and\n",
        "*   or\n",
        "*   not\n",
        "\n"
      ],
      "metadata": {
        "id": "GFvCkeeCv_Ms"
      }
    },
    {
      "cell_type": "code",
      "source": [
        "a = 10\n",
        "b = 15\n",
        "result = (a > 0) and (b > 0)\n",
        "print(result)"
      ],
      "metadata": {
        "colab": {
          "base_uri": "https://localhost:8080/"
        },
        "id": "GyfyGV_SArHg",
        "outputId": "f5aa3404-8a4e-4fed-8cc5-de3a53494970"
      },
      "execution_count": null,
      "outputs": [
        {
          "output_type": "stream",
          "name": "stdout",
          "text": [
            "True\n"
          ]
        }
      ]
    },
    {
      "cell_type": "code",
      "source": [
        "result = (a > 0) or (b < 0)\n",
        "print(result)"
      ],
      "metadata": {
        "colab": {
          "base_uri": "https://localhost:8080/"
        },
        "id": "7vd6ePtlBIiQ",
        "outputId": "5ef12a7b-cfbc-427c-b821-d5888ff991de"
      },
      "execution_count": null,
      "outputs": [
        {
          "output_type": "stream",
          "name": "stdout",
          "text": [
            "True\n"
          ]
        }
      ]
    },
    {
      "cell_type": "code",
      "source": [
        "result = not(a > b)\n",
        "print(result)"
      ],
      "metadata": {
        "colab": {
          "base_uri": "https://localhost:8080/"
        },
        "id": "u2ChK-I_BPfe",
        "outputId": "429d7d81-0f5b-4785-f296-6aa278f2ff3a"
      },
      "execution_count": null,
      "outputs": [
        {
          "output_type": "stream",
          "name": "stdout",
          "text": [
            "True\n"
          ]
        }
      ]
    },
    {
      "cell_type": "markdown",
      "source": [
        "(iv). Not Operators : In Python, the not operator is a logical operator that negates a boolean value. It returns True if the value is False, and vice versa.\n",
        "*   Not\n",
        "\n",
        "\n"
      ],
      "metadata": {
        "id": "KxEQ1G5qBXp8"
      }
    },
    {
      "cell_type": "code",
      "source": [
        "x = 10\n",
        "\n",
        "if not x < 5:\n",
        "    print(\"x is not less than 5\")"
      ],
      "metadata": {
        "colab": {
          "base_uri": "https://localhost:8080/"
        },
        "id": "1Ys5qGJeCfFP",
        "outputId": "2f1b3e54-49d0-4c1a-85e8-8a3abe4ac1cb"
      },
      "execution_count": null,
      "outputs": [
        {
          "output_type": "stream",
          "name": "stdout",
          "text": [
            "x is not less than 5\n"
          ]
        }
      ]
    },
    {
      "cell_type": "markdown",
      "source": [
        "(v). Assignment Operators: These operators assign values to variables.\n",
        "*   = : Assigns a value\n",
        "*   += : Adds and assigns\n",
        "*   -= : Subtracts and assigns\n",
        "*   *= : Multiplies and assigns\n",
        "*   /= : Divides and assigns"
      ],
      "metadata": {
        "id": "bENaNulfCys2"
      }
    },
    {
      "cell_type": "code",
      "source": [
        "x = 10\n",
        "print(x)"
      ],
      "metadata": {
        "colab": {
          "base_uri": "https://localhost:8080/"
        },
        "id": "8oW6P4-2DSOv",
        "outputId": "766e1d4b-5a8a-4f0f-83df-7b051699cbf2"
      },
      "execution_count": null,
      "outputs": [
        {
          "output_type": "stream",
          "name": "stdout",
          "text": [
            "10\n"
          ]
        }
      ]
    },
    {
      "cell_type": "code",
      "source": [
        "x += 5\n",
        "print(x)"
      ],
      "metadata": {
        "colab": {
          "base_uri": "https://localhost:8080/"
        },
        "id": "LC7h1A0TDzD3",
        "outputId": "97b2c32b-b03e-4d34-bb9d-2ec00f90c60c"
      },
      "execution_count": null,
      "outputs": [
        {
          "output_type": "stream",
          "name": "stdout",
          "text": [
            "15\n"
          ]
        }
      ]
    },
    {
      "cell_type": "code",
      "source": [
        " x -= 3\n",
        " print(x)"
      ],
      "metadata": {
        "colab": {
          "base_uri": "https://localhost:8080/"
        },
        "id": "OB6D25YYD6Ff",
        "outputId": "dd0ff40b-a5ca-4e47-a270-a2019160f445"
      },
      "execution_count": null,
      "outputs": [
        {
          "output_type": "stream",
          "name": "stdout",
          "text": [
            "12\n"
          ]
        }
      ]
    },
    {
      "cell_type": "code",
      "source": [
        "x *= 2\n",
        "print(x)"
      ],
      "metadata": {
        "colab": {
          "base_uri": "https://localhost:8080/"
        },
        "id": "HlFB9WtjD_3N",
        "outputId": "78fd96d4-279d-4d52-fab9-fff0efcc299c"
      },
      "execution_count": null,
      "outputs": [
        {
          "output_type": "stream",
          "name": "stdout",
          "text": [
            "24\n"
          ]
        }
      ]
    },
    {
      "cell_type": "markdown",
      "source": [
        "(vi). Membership Operators: These operators check for membership in sequences like lists, tuples, or strings.\n",
        "\n",
        "*   in\n",
        "*   not in"
      ],
      "metadata": {
        "id": "rJHo-MNbEOHz"
      }
    },
    {
      "cell_type": "code",
      "source": [
        "result = 4 not in [1, 2, 3]\n",
        "print(result)\n"
      ],
      "metadata": {
        "colab": {
          "base_uri": "https://localhost:8080/"
        },
        "id": "edbHl_sOE53f",
        "outputId": "118ea0a3-679d-41e5-e6a4-4a801a6012c1"
      },
      "execution_count": null,
      "outputs": [
        {
          "output_type": "stream",
          "name": "stdout",
          "text": [
            "True\n"
          ]
        }
      ]
    },
    {
      "cell_type": "code",
      "source": [
        "result = 2 in [1, 2, 3]\n",
        "print(result)"
      ],
      "metadata": {
        "colab": {
          "base_uri": "https://localhost:8080/"
        },
        "id": "-XU27N1YEp9v",
        "outputId": "76a40e94-949d-4813-88bc-f14d9bc7a7ee"
      },
      "execution_count": null,
      "outputs": [
        {
          "output_type": "stream",
          "name": "stdout",
          "text": [
            "True\n"
          ]
        }
      ]
    },
    {
      "cell_type": "markdown",
      "source": [
        "(vii). Identity Operators: These operators are used to compare the memory locations of two objects.\n",
        "*   Is (is)\n",
        "*   is not"
      ],
      "metadata": {
        "id": "VLDTuvOlFFEg"
      }
    },
    {
      "cell_type": "code",
      "source": [
        "a = [1, 2, 3]\n",
        "b = a\n",
        "result = (a is b)\n",
        "print(result)"
      ],
      "metadata": {
        "colab": {
          "base_uri": "https://localhost:8080/"
        },
        "id": "HJPQWaFwFWbm",
        "outputId": "d169d566-ccea-432d-8a8f-a6eec0f30231"
      },
      "execution_count": null,
      "outputs": [
        {
          "output_type": "stream",
          "name": "stdout",
          "text": [
            "True\n"
          ]
        }
      ]
    },
    {
      "cell_type": "code",
      "source": [
        "c = a[:]\n",
        "result = (a is not c)\n",
        "print(result)"
      ],
      "metadata": {
        "colab": {
          "base_uri": "https://localhost:8080/"
        },
        "id": "QaPyMSxqFiCO",
        "outputId": "aa8dad8f-dd83-4308-833e-cc72dd28f18a"
      },
      "execution_count": null,
      "outputs": [
        {
          "output_type": "stream",
          "name": "stdout",
          "text": [
            "True\n"
          ]
        }
      ]
    },
    {
      "cell_type": "markdown",
      "source": [],
      "metadata": {
        "id": "baK3gWEhFFF7"
      }
    },
    {
      "cell_type": "markdown",
      "source": [
        "(viii). bitwise: They are used primarily for low-level programming tasks, like manipulating binary data, flags, and optimizing certain algorithms.\n",
        "*   AND(&)\n",
        "*   OR (|)\n",
        "*   XOR(^)\n",
        "*   NOT(~)\n",
        "*   Right Shift (>>)\n",
        "*   Left Shift (<<)"
      ],
      "metadata": {
        "id": "klausXE0Fxxe"
      }
    },
    {
      "cell_type": "code",
      "source": [
        "a = 10  # In binary: 1010\n",
        "b = 4   # In binary: 0100\n",
        "result = a & b  # Result: 0 (In binary: 0000)\n",
        "print(result)\n"
      ],
      "metadata": {
        "colab": {
          "base_uri": "https://localhost:8080/"
        },
        "id": "Nk4ikAulGevw",
        "outputId": "398d165f-7d91-4147-e26f-d43ffe03c104"
      },
      "execution_count": null,
      "outputs": [
        {
          "output_type": "stream",
          "name": "stdout",
          "text": [
            "0\n"
          ]
        }
      ]
    },
    {
      "cell_type": "code",
      "source": [
        "result = a | b  # Result: 14 (In binary: 1110)\n",
        "print(result)"
      ],
      "metadata": {
        "colab": {
          "base_uri": "https://localhost:8080/"
        },
        "id": "vY_MlcxvHDUg",
        "outputId": "058a640b-b0b2-4ea5-90bb-5ded29d256d1"
      },
      "execution_count": null,
      "outputs": [
        {
          "output_type": "stream",
          "name": "stdout",
          "text": [
            "14\n"
          ]
        }
      ]
    },
    {
      "cell_type": "code",
      "source": [
        "result = a ^ b  # result is 6 (binary: 0101 ^ 0011 = 0110)\n",
        "print(result)"
      ],
      "metadata": {
        "colab": {
          "base_uri": "https://localhost:8080/"
        },
        "id": "nB5t_4yiHF0A",
        "outputId": "f459bf47-27b6-4465-80ea-0f5a4cda034b"
      },
      "execution_count": null,
      "outputs": [
        {
          "output_type": "stream",
          "name": "stdout",
          "text": [
            "14\n"
          ]
        }
      ]
    },
    {
      "cell_type": "code",
      "source": [
        "result = ~a\n",
        "print(result)"
      ],
      "metadata": {
        "colab": {
          "base_uri": "https://localhost:8080/"
        },
        "id": "oxUV98DTHIVs",
        "outputId": "f6049275-0865-483d-ea6f-55c256478372"
      },
      "execution_count": null,
      "outputs": [
        {
          "output_type": "stream",
          "name": "stdout",
          "text": [
            "-11\n"
          ]
        }
      ]
    },
    {
      "cell_type": "code",
      "source": [
        "result = a >> 1  # result is 2 (binary: 0101 >> 1 = 0010)\n",
        "print(result)"
      ],
      "metadata": {
        "colab": {
          "base_uri": "https://localhost:8080/"
        },
        "id": "sbIm9wXlHQHR",
        "outputId": "47c26e37-7b20-4163-c090-c7bc5f850d7b"
      },
      "execution_count": null,
      "outputs": [
        {
          "output_type": "stream",
          "name": "stdout",
          "text": [
            "5\n"
          ]
        }
      ]
    },
    {
      "cell_type": "code",
      "source": [
        "result = a << 1  # result is 10 (binary: 0101 << 1 = 1010)\n",
        "print(result)"
      ],
      "metadata": {
        "colab": {
          "base_uri": "https://localhost:8080/"
        },
        "id": "T8Im55z_H7jX",
        "outputId": "5fad2a16-364b-4d5b-9258-532fd8b5618d"
      },
      "execution_count": null,
      "outputs": [
        {
          "output_type": "stream",
          "name": "stdout",
          "text": [
            "20\n"
          ]
        }
      ]
    },
    {
      "cell_type": "markdown",
      "source": [
        "**5. Explain the concept of type casting in Python with examples.**\n",
        "\n",
        "Ans: Type casting in Python refers to converting a variable from one data type to another. This can be useful when you want to perform operations that require specific data types or when you need to manipulate data in a certain way. Python provides several built-in functions to perform type casting. Type casting is a fundamental concept in Python that allows for flexibility in data manipulation. By understanding how to convert between different types, you can ensure that your operations are valid and produce the desired results.\n",
        "\n",
        "*   int(): Converts a value to an integer.\n",
        "*   float(): Converts a value to a float.\n",
        "*   str(): Converts a value to a string.\n",
        "*   list(): Converts a value to a list.\n",
        "*   tuple(): Converts a value to a tuple.\n",
        "*   set(): Converts a value to a set.\n",
        "*   dict(): Converts a sequence of key-value pairs to a dictionary"
      ],
      "metadata": {
        "id": "WS_AmMNbINpO"
      }
    },
    {
      "cell_type": "code",
      "source": [
        "# From int to float\n",
        "a = 5\n",
        "b = float(a)\n",
        "print(b)\n"
      ],
      "metadata": {
        "colab": {
          "base_uri": "https://localhost:8080/"
        },
        "id": "bUTha4ALJD_x",
        "outputId": "b4b1ed0c-232c-4a40-85ae-f6a6a1e3a0b7"
      },
      "execution_count": null,
      "outputs": [
        {
          "output_type": "stream",
          "name": "stdout",
          "text": [
            "5.0\n"
          ]
        }
      ]
    },
    {
      "cell_type": "code",
      "source": [
        "# From string to float\n",
        "s = \"3.14\"\n",
        "f = float(s)\n",
        "print(f)"
      ],
      "metadata": {
        "colab": {
          "base_uri": "https://localhost:8080/"
        },
        "id": "b68iE5zdJPrv",
        "outputId": "87b9a7cd-b667-4f98-a32c-7e281645b8e8"
      },
      "execution_count": null,
      "outputs": [
        {
          "output_type": "stream",
          "name": "stdout",
          "text": [
            "3.14\n"
          ]
        }
      ]
    },
    {
      "cell_type": "code",
      "source": [
        "a = 5\n",
        "b = 2.0\n",
        "result = a + b\n",
        "print(result)"
      ],
      "metadata": {
        "colab": {
          "base_uri": "https://localhost:8080/"
        },
        "id": "_5BbOCPlJUTr",
        "outputId": "530785f2-064a-4604-9195-4ce67f032819"
      },
      "execution_count": null,
      "outputs": [
        {
          "output_type": "stream",
          "name": "stdout",
          "text": [
            "7.0\n"
          ]
        }
      ]
    },
    {
      "cell_type": "markdown",
      "source": [
        "**6. How do conditional statements work in Python? Illustrate with examples.**\n",
        "\n",
        "Ans: Conditional statements in Python allow you to execute certain blocks of code based on specific conditions. In this condition can be one or more. The most commonly used conditional statements are if, elif, and else. Where we can say:\n",
        "\n",
        "*   if : This checks a condition and executes a block of code if the condition is true.\n",
        "*   elif: Short for \"else if,\" this allows you to check multiple conditions.\n",
        "*   else: This executes a block of code if none of the preceding conditions are true.\n"
      ],
      "metadata": {
        "id": "FU_4xDfJJ0pF"
      }
    },
    {
      "cell_type": "code",
      "source": [
        "temperature = 75\n",
        "humidity = 30\n",
        "\n",
        "if temperature > 70 and humidity < 40:\n",
        "    print(\"It's a warm and dry day.\")\n",
        "elif temperature > 70 and humidity >= 40:\n",
        "    print(\"It's a warm and humid day.\")\n",
        "else:\n",
        "    print(\"It's a cool day.\")"
      ],
      "metadata": {
        "colab": {
          "base_uri": "https://localhost:8080/"
        },
        "id": "fs5hYGRLKmQL",
        "outputId": "9b404c9e-76f8-4588-d71b-b1307d4e4888"
      },
      "execution_count": null,
      "outputs": [
        {
          "output_type": "stream",
          "name": "stdout",
          "text": [
            "It's a warm and dry day.\n"
          ]
        }
      ]
    },
    {
      "cell_type": "code",
      "source": [
        "num = 15\n",
        "\n",
        "if num > 0:\n",
        "    print(\"Positive number\")\n",
        "    if num % 2 == 0:\n",
        "        print(\"Even number\")\n",
        "    else:\n",
        "        print(\"Odd number\")\n",
        "else:\n",
        "    print(\"Negative number or zero\")"
      ],
      "metadata": {
        "colab": {
          "base_uri": "https://localhost:8080/"
        },
        "id": "hSnUJzOKKuwJ",
        "outputId": "fc71ab11-dc53-43c7-a532-b8f855099597"
      },
      "execution_count": null,
      "outputs": [
        {
          "output_type": "stream",
          "name": "stdout",
          "text": [
            "Positive number\n",
            "Odd number\n"
          ]
        }
      ]
    },
    {
      "cell_type": "code",
      "source": [
        "score = 85\n",
        "\n",
        "if score >= 90:\n",
        "    print(\"Grade: A\")\n",
        "elif score >= 80:\n",
        "    print(\"Grade: B\")\n",
        "elif score >= 70:\n",
        "    print(\"Grade: C\")\n",
        "else:\n",
        "    print(\"Grade: D\")"
      ],
      "metadata": {
        "colab": {
          "base_uri": "https://localhost:8080/"
        },
        "id": "6h1OBRDqLBys",
        "outputId": "92b7d5d3-f791-4a34-b78f-e814293fb62d"
      },
      "execution_count": null,
      "outputs": [
        {
          "output_type": "stream",
          "name": "stdout",
          "text": [
            "Grade: B\n"
          ]
        }
      ]
    },
    {
      "cell_type": "markdown",
      "source": [
        "**7. Describe the different types of loops in Python and their use cases with examples.**\n",
        "\n",
        "Ans: In Python, loops are used to execute a block of code multiple times. The two primary types of loops are for loops and while loops. For loops are typically used when you know the number of iterations beforehand or when iterating over a sequence. While loops are used when the number of iterations is not known beforehand and depend on a condition being true."
      ],
      "metadata": {
        "id": "3Vo-YyxVLBnj"
      }
    },
    {
      "cell_type": "code",
      "source": [
        "#print a right traiangle with *\n",
        "row =1\n",
        "while row <=4:\n",
        "    col=1\n",
        "    while col <= row:\n",
        "        print(\"*\", end = \"\")\n",
        "        col = col+1\n",
        "    print()\n",
        "    row=row+1"
      ],
      "metadata": {
        "colab": {
          "base_uri": "https://localhost:8080/"
        },
        "id": "s7hfCFTfMyCz",
        "outputId": "e015b1ab-308e-4703-f922-7f7df13d6e2c"
      },
      "execution_count": null,
      "outputs": [
        {
          "output_type": "stream",
          "name": "stdout",
          "text": [
            "*\n",
            "**\n",
            "***\n",
            "****\n"
          ]
        }
      ]
    },
    {
      "cell_type": "code",
      "source": [
        "a='pwskills'\n",
        "for i in a:\n",
        "    print(i)"
      ],
      "metadata": {
        "colab": {
          "base_uri": "https://localhost:8080/"
        },
        "id": "aqWxqC7wM230",
        "outputId": "beaafea5-fd4a-4583-e103-2375f6293e49"
      },
      "execution_count": null,
      "outputs": [
        {
          "output_type": "stream",
          "name": "stdout",
          "text": [
            "p\n",
            "w\n",
            "s\n",
            "k\n",
            "i\n",
            "l\n",
            "l\n",
            "s\n"
          ]
        }
      ]
    },
    {
      "cell_type": "code",
      "source": [
        "n=7\n",
        "i=1\n",
        "while i <0:\n",
        "    print(i)\n",
        "    i=i+1\n",
        "else:\n",
        "    print(\"This will be executed when whil loop\")"
      ],
      "metadata": {
        "colab": {
          "base_uri": "https://localhost:8080/"
        },
        "id": "cyI7_QjvM7Ww",
        "outputId": "f859ace6-965e-40e4-ae5b-d27a0f2f5ad6"
      },
      "execution_count": null,
      "outputs": [
        {
          "output_type": "stream",
          "name": "stdout",
          "text": [
            "This will be executed when whil loop\n"
          ]
        }
      ]
    },
    {
      "cell_type": "code",
      "source": [
        "n=7\n",
        "i=1\n",
        "while i <n:\n",
        "    print(i)\n",
        "    i=i+1\n",
        "    if i==3:\n",
        "        continue\n",
        "    print(1)"
      ],
      "metadata": {
        "colab": {
          "base_uri": "https://localhost:8080/"
        },
        "id": "-FLLXutWNWlJ",
        "outputId": "c80f21b9-a7de-4127-d7e0-a8c5c0ab7e07"
      },
      "execution_count": null,
      "outputs": [
        {
          "output_type": "stream",
          "name": "stdout",
          "text": [
            "1\n",
            "1\n",
            "2\n",
            "3\n",
            "1\n",
            "4\n",
            "1\n",
            "5\n",
            "1\n",
            "6\n",
            "1\n"
          ]
        }
      ]
    },
    {
      "cell_type": "code",
      "source": [
        "count =5\n",
        "while count >0:\n",
        "    print(count)\n",
        "    count = count -1"
      ],
      "metadata": {
        "colab": {
          "base_uri": "https://localhost:8080/"
        },
        "id": "EhNEni4DNbch",
        "outputId": "4e47bdc4-c7a6-4adb-8dea-aa3a7fd47dd2"
      },
      "execution_count": null,
      "outputs": [
        {
          "output_type": "stream",
          "name": "stdout",
          "text": [
            "5\n",
            "4\n",
            "3\n",
            "2\n",
            "1\n"
          ]
        }
      ]
    },
    {
      "cell_type": "code",
      "source": [
        "l=[1,2,\"Shivanshu\", 'Data_analytics']\n",
        "for i in l:\n",
        "    print(i)"
      ],
      "metadata": {
        "colab": {
          "base_uri": "https://localhost:8080/"
        },
        "id": "aRUkU2vONe7C",
        "outputId": "2e419c65-e2f8-46f2-959c-feabb5d312dd"
      },
      "execution_count": null,
      "outputs": [
        {
          "output_type": "stream",
          "name": "stdout",
          "text": [
            "1\n",
            "2\n",
            "Shivanshu\n",
            "Data_analytics\n"
          ]
        }
      ]
    }
  ]
}